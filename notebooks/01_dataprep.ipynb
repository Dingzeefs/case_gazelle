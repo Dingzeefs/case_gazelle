{
 "cells": [
  {
   "cell_type": "markdown",
   "metadata": {},
   "source": [
    "# 01 Data Preparation - Gazelle/Pon Case\n",
    "\n",
    "**Doel**: \n",
    "- Dealers data schoonmaken en Pon-merken identificeren\n",
    "- Demografie data verwerken (CBS -99997 handling)\n",
    "- PC4-gemeente mapping en feature engineering\n",
    "- Demografische clustering (k=5)\n",
    "\n",
    "**Exports**:\n",
    "- `data/processed/dealers.parquet`\n",
    "- `data/processed/demografie.parquet` \n",
    "- `outputs/tables/kpis_by_pc4_with_clusters.csv`"
   ]
  },
  {
   "cell_type": "code",
   "execution_count": 9,
   "metadata": {
    "execution": {
     "iopub.execute_input": "2025-09-05T23:50:14.563288Z",
     "iopub.status.busy": "2025-09-05T23:50:14.562660Z",
     "iopub.status.idle": "2025-09-05T23:50:17.609462Z",
     "shell.execute_reply": "2025-09-05T23:50:17.609013Z"
    }
   },
   "outputs": [
    {
     "name": "stdout",
     "output_type": "stream",
     "text": [
      "✅ Setup completed\n",
      "PON brands: ['cannondale', 'cervelo', 'cervélo', 'focus', 'gazelle', 'kalkhoff', 'santa cruz', 'union', 'urban arrow']\n"
     ]
    }
   ],
   "source": [
    "# Imports and constants\n",
    "import pandas as pd\n",
    "import numpy as np\n",
    "from pathlib import Path\n",
    "from sklearn.preprocessing import StandardScaler\n",
    "from sklearn.cluster import KMeans\n",
    "import warnings\n",
    "warnings.filterwarnings('ignore')\n",
    "\n",
    "# Paths\n",
    "RAW = Path(\"../data/raw\")\n",
    "EXT = Path(\"../data/external\") \n",
    "PROC = Path(\"../data/processed\")\n",
    "OUT = Path(\"../outputs/tables\")\n",
    "\n",
    "# Ensure directories exist\n",
    "PROC.mkdir(parents=True, exist_ok=True)\n",
    "OUT.mkdir(parents=True, exist_ok=True)\n",
    "\n",
    "# Pon brands definition (from README)\n",
    "PON_BRANDS = {\"gazelle\", \"cannondale\", \"union\", \"kalkhoff\", \"urban arrow\", \"cervélo\", \"cervelo\", \"focus\", \"santa cruz\"}\n",
    "\n",
    "print(\"✅ Setup completed\")\n",
    "print(f\"PON brands: {sorted(PON_BRANDS)}\")"
   ]
  },
  {
   "cell_type": "markdown",
   "metadata": {},
   "source": [
    "## 1. Dealers Data Processing"
   ]
  },
  {
   "cell_type": "code",
   "execution_count": 10,
   "metadata": {
    "execution": {
     "iopub.execute_input": "2025-09-05T23:50:17.648693Z",
     "iopub.status.busy": "2025-09-05T23:50:17.648340Z",
     "iopub.status.idle": "2025-09-05T23:50:17.716950Z",
     "shell.execute_reply": "2025-09-05T23:50:17.716506Z"
    }
   },
   "outputs": [
    {
     "name": "stdout",
     "output_type": "stream",
     "text": [
      "Loading dealers data...\n",
      "Raw dealers: 6,748 records\n",
      "Pon brands found: ['cannondale', 'cervelo', 'focus', 'gazelle', 'kalkhoff', 'union']\n",
      "Pon dealer records: 1,282\n",
      "Non-Pon dealer records: 5,466\n"
     ]
    }
   ],
   "source": [
    "# Load dealers data\n",
    "print(\"Loading dealers data...\")\n",
    "dealers = pd.read_csv(RAW / \"dealer_lijst.csv\")\n",
    "print(f\"Raw dealers: {len(dealers):,} records\")\n",
    "\n",
    "# Clean brand names and identify Pon brands\n",
    "dealers[\"brand_clean\"] = dealers[\"brand\"].fillna(\"\").str.lower().str.strip()\n",
    "dealers[\"is_pon_dealer\"] = dealers[\"brand_clean\"].isin(PON_BRANDS)\n",
    "\n",
    "print(f\"Pon brands found: {sorted(dealers[dealers['is_pon_dealer']]['brand_clean'].unique())}\")\n",
    "print(f\"Pon dealer records: {dealers['is_pon_dealer'].sum():,}\")\n",
    "print(f\"Non-Pon dealer records: {(~dealers['is_pon_dealer']).sum():,}\")"
   ]
  },
  {
   "cell_type": "code",
   "execution_count": 3,
   "metadata": {
    "execution": {
     "iopub.execute_input": "2025-09-05T23:50:17.718624Z",
     "iopub.status.busy": "2025-09-05T23:50:17.718480Z",
     "iopub.status.idle": "2025-09-05T23:50:17.735774Z",
     "shell.execute_reply": "2025-09-05T23:50:17.735326Z"
    }
   },
   "outputs": [
    {
     "name": "stdout",
     "output_type": "stream",
     "text": [
      "\n",
      "Analyzing dealer-location relationships...\n",
      "Unique google_place_ids: 2,080\n",
      "After location aggregation: 2,080 unique locations\n",
      "Locations with Pon brands: 912\n",
      "Multi-brand locations: 1,374\n",
      "Multi-Pon-brand locations: 302\n",
      "\n",
      "📊 Multi-brand location insights:\n",
      "   Average brands per multi-brand location: 4.2\n",
      "   Locations with 2+ Pon brands: 302\n",
      "\n",
      "🏪 Sample multi-brand locations:\n",
      "   Fietswinkel Gelderland: cannondale, cube, gazelle, qwic, trek (2 Pon)\n",
      "   Van Der Veeken Tweewielers Etten-Leur B.V.: batavus, cortina, gazelle, giant, merida, urban_arrow (1 Pon)\n",
      "   Van Der Laan Tweewielers B.V.: batavus, cortina, koga, merida, sparta (0 Pon)\n",
      "\n",
      "💾 Creating detailed brand-location matrix...\n",
      "Brand-location matrix: 2080 locations × 24 brands\n"
     ]
    }
   ],
   "source": [
    "# FIXED: Preserve multi-brand information instead of aggressive deduplication\n",
    "print(\"\\nAnalyzing dealer-location relationships...\")\n",
    "print(f\"Unique google_place_ids: {dealers['google_place_id'].nunique():,}\")\n",
    "\n",
    "# Create location-based dealer summary (preserve all brand relationships)\n",
    "dealers_by_location = dealers.groupby('google_place_id').agg({\n",
    "    'name': 'first',  # Take first name for location\n",
    "    'google_name': 'first',  # Keep google name\n",
    "    'brand_clean': lambda x: list(sorted(set(x))),  # All brands at location\n",
    "    'is_pon_dealer': 'any',  # True if any Pon brand present\n",
    "    'google_rating': 'first',\n",
    "    'google_user_ratings_total': 'first', \n",
    "    'google_lat': 'first',\n",
    "    'google_lng': 'first',\n",
    "    'postal_code': 'first',\n",
    "    'google_address': 'first',\n",
    "    'country': 'first',\n",
    "    'google_link': 'first',\n",
    "    'website': 'first',\n",
    "    'house_number': 'first',\n",
    "    'street': 'first'\n",
    "}).reset_index()\n",
    "\n",
    "# Calculate brand metrics per location\n",
    "dealers_by_location['pon_brand_count'] = dealers_by_location['brand_clean'].apply(\n",
    "    lambda brands: sum(1 for b in brands if b in PON_BRANDS)\n",
    ")\n",
    "dealers_by_location['total_brand_count'] = dealers_by_location['brand_clean'].apply(len)\n",
    "dealers_by_location['brands_sold'] = dealers_by_location['brand_clean'].apply(lambda x: ', '.join(x))\n",
    "\n",
    "# For single-brand analysis compatibility, create primary brand column \n",
    "# (prioritize Pon brands, then alphabetical)\n",
    "def get_primary_brand(brands):\n",
    "    pon_brands_at_location = [b for b in brands if b in PON_BRANDS]\n",
    "    if pon_brands_at_location:\n",
    "        return sorted(pon_brands_at_location)[0]  # First Pon brand alphabetically\n",
    "    return sorted(brands)[0]  # First non-Pon brand\n",
    "\n",
    "dealers_by_location['brand_clean'] = dealers_by_location['brand_clean'].apply(get_primary_brand)\n",
    "\n",
    "# Also create 'brand' column for compatibility with downstream code\n",
    "dealers_by_location['brand'] = dealers_by_location['brand_clean']\n",
    "\n",
    "print(f\"After location aggregation: {len(dealers_by_location):,} unique locations\")\n",
    "print(f\"Locations with Pon brands: {dealers_by_location['is_pon_dealer'].sum():,}\")\n",
    "print(f\"Multi-brand locations: {(dealers_by_location['total_brand_count'] > 1).sum():,}\")\n",
    "print(f\"Multi-Pon-brand locations: {(dealers_by_location['pon_brand_count'] > 1).sum():,}\")\n",
    "\n",
    "# Show multi-brand statistics\n",
    "multi_brand_stats = dealers_by_location[dealers_by_location['total_brand_count'] > 1]\n",
    "if len(multi_brand_stats) > 0:\n",
    "    print(f\"\\n📊 Multi-brand location insights:\")\n",
    "    print(f\"   Average brands per multi-brand location: {multi_brand_stats['total_brand_count'].mean():.1f}\")\n",
    "    print(f\"   Locations with 2+ Pon brands: {(multi_brand_stats['pon_brand_count'] > 1).sum()}\")\n",
    "    \n",
    "    # Show sample multi-brand locations\n",
    "    print(f\"\\n🏪 Sample multi-brand locations:\")\n",
    "    sample = multi_brand_stats[['name', 'brands_sold', 'pon_brand_count']].head(3)\n",
    "    for _, row in sample.iterrows():\n",
    "        print(f\"   {row['name']}: {row['brands_sold']} ({row['pon_brand_count']} Pon)\")\n",
    "\n",
    "# Use location-based data as dealers_unique for downstream compatibility\n",
    "dealers_unique = dealers_by_location.copy()\n",
    "\n",
    "# Also save detailed brand-location matrix for advanced analysis\n",
    "print(f\"\\n💾 Creating detailed brand-location matrix...\")\n",
    "brand_location_matrix = dealers.pivot_table(\n",
    "    index='google_place_id',\n",
    "    columns='brand_clean',\n",
    "    values='is_pon_dealer',\n",
    "    aggfunc='any',\n",
    "    fill_value=False\n",
    ").reset_index()\n",
    "\n",
    "print(f\"Brand-location matrix: {len(brand_location_matrix)} locations × {len(brand_location_matrix.columns)-1} brands\")"
   ]
  },
  {
   "cell_type": "code",
   "execution_count": 11,
   "metadata": {
    "execution": {
     "iopub.execute_input": "2025-09-05T23:50:17.737663Z",
     "iopub.status.busy": "2025-09-05T23:50:17.737512Z",
     "iopub.status.idle": "2025-09-05T23:50:17.755621Z",
     "shell.execute_reply": "2025-09-05T23:50:17.755126Z"
    }
   },
   "outputs": [
    {
     "name": "stdout",
     "output_type": "stream",
     "text": [
      "\n",
      "Processing postal codes...\n",
      "Valid PC4 codes: 2,078/2,080 (99.9%)\n",
      "\n",
      "Sample PC4 extraction:\n",
      "postal_code  pc4                                                    google_name  is_pon_dealer                                                                    brands_sold\n",
      "     6333BC 6333                                             Cube Store Limburg          False                                                                           cube\n",
      "     6666LR 6666                                           Bike Shop Gelderland           True                                          cannondale, cube, gazelle, qwic, trek\n",
      "     5025VD 5025                                              Bike Shop Ventoux          False                                                                          scott\n",
      "     4876AP 4876                                 Van der Veeken Bike Specialist           True                          batavus, cortina, gazelle, giant, merida, urban_arrow\n",
      "     7921GC 7921                                       van der Laan tweewielers          False                                         batavus, cortina, koga, merida, sparta\n",
      "     3452ME 3452                             Fietsenwinkel Vleuten - Banierhuis           True batavus, cannondale, cortina, cube, gazelle, koga, merida, sparta, urban_arrow\n",
      "     3191VD 3191                           Bikespoint - Winkelcentrum Hoogvliet          False                                                       batavus, cortina, sparta\n",
      "     3481CP 3481                                             Leewis Tweewielers          False                                                       batavus, cortina, sparta\n",
      "     2871ED 2871 Bike Totaal Boom Tweewielers - Fietsenwinkel en fietsreparatie           True                         batavus, cortina, gazelle, giant, koga, merida, sparta\n",
      "     3843GD 3843                                                 profile Wigger           True            batavus, cortina, gazelle, lovens, sparta, trek, union, urban_arrow\n"
     ]
    }
   ],
   "source": [
    "# Extract PC4 from postal codes\n",
    "print(\"\\nProcessing postal codes...\")\n",
    "dealers_unique[\"postal_code\"] = dealers_unique[\"postal_code\"].astype(str).str.replace(\" \", \"\", regex=False)\n",
    "dealers_unique[\"pc4\"] = dealers_unique[\"postal_code\"].str[:4].str.extract(r\"(\\d{4})\")[0]\n",
    "\n",
    "# Check PC4 quality\n",
    "valid_pc4 = dealers_unique[\"pc4\"].notna()\n",
    "print(f\"Valid PC4 codes: {valid_pc4.sum():,}/{len(dealers_unique):,} ({valid_pc4.mean():.1%})\")\n",
    "\n",
    "# Show some examples\n",
    "print(\"\\nSample PC4 extraction:\")\n",
    "sample = dealers_unique[[\"postal_code\", \"pc4\", \"google_name\", \"is_pon_dealer\", \"brands_sold\"]].head(10)\n",
    "print(sample.to_string(index=False))"
   ]
  },
  {
   "cell_type": "code",
   "execution_count": 12,
   "metadata": {
    "execution": {
     "iopub.execute_input": "2025-09-05T23:50:17.758006Z",
     "iopub.status.busy": "2025-09-05T23:50:17.757841Z",
     "iopub.status.idle": "2025-09-05T23:50:17.844233Z",
     "shell.execute_reply": "2025-09-05T23:50:17.843789Z"
    }
   },
   "outputs": [
    {
     "name": "stdout",
     "output_type": "stream",
     "text": [
      "\n",
      "Saving processed dealers...\n",
      "✅ Saved to ../data/processed/dealers.parquet\n",
      "✅ Saved to ../data/processed/brand_location_matrix.parquet\n",
      "✅ Saved to ../data/processed/dealers_all_brands.parquet\n",
      "✅ Saved to ../outputs/tables/brand_performance_corrected.csv\n",
      "\n",
      "📊 CORRECTED Pon brand performance:\n",
      "     brand  unique_locations  total_relationships  avg_rating  avg_reviews  market_presence\n",
      "   gazelle               700                  701    4.470000    69.812857        33.653846\n",
      "     union               247                  247    4.395082    76.426230        11.875000\n",
      "  kalkhoff               191                  199    4.458081    97.520202         9.182692\n",
      "cannondale                92                   92    4.564130   153.228261         4.423077\n",
      "   cervelo                35                   35    4.582857    74.571429         1.682692\n",
      "     focus                 8                    8    4.887500    56.250000         0.384615\n",
      "\n",
      "📈 CORRECTED Market Metrics:\n",
      "   Total dealer relationships: 6,748\n",
      "   Pon dealer relationships: 1,282\n",
      "   True Pon market share: 19.0% (was 43.8%)\n",
      "   Unique dealer locations: 2,080\n",
      "   Multi-brand locations: 1,374\n"
     ]
    }
   ],
   "source": [
    "# Save processed dealers and brand analysis data\n",
    "print(\"\\nSaving processed dealers...\")\n",
    "\n",
    "# Save main location-based dealers file (for coverage, KPIs, etc.)\n",
    "dealers_unique.to_parquet(PROC / \"dealers.parquet\", index=False)\n",
    "print(f\"✅ Saved to {PROC / 'dealers.parquet'}\")\n",
    "\n",
    "# Save detailed brand-location matrix for portfolio analysis\n",
    "brand_location_matrix.to_parquet(PROC / \"brand_location_matrix.parquet\", index=False)\n",
    "print(f\"✅ Saved to {PROC / 'brand_location_matrix.parquet'}\")\n",
    "\n",
    "# Save raw dealer data with brand relationships for detailed analysis\n",
    "dealers.to_parquet(PROC / \"dealers_all_brands.parquet\", index=False)\n",
    "print(f\"✅ Saved to {PROC / 'dealers_all_brands.parquet'}\")\n",
    "\n",
    "# Create comprehensive brand performance summary\n",
    "brand_performance_corrected = dealers[dealers['is_pon_dealer']].groupby('brand_clean').agg({\n",
    "    'google_place_id': 'nunique',  # Unique locations per brand\n",
    "    'name': 'count',  # Total brand relationships\n",
    "    'google_rating': 'mean',\n",
    "    'google_user_ratings_total': 'mean'\n",
    "}).reset_index()\n",
    "\n",
    "brand_performance_corrected.columns = ['brand', 'unique_locations', 'total_relationships', \n",
    "                                     'avg_rating', 'avg_reviews']\n",
    "\n",
    "# Calculate performance metrics\n",
    "brand_performance_corrected['market_presence'] = (\n",
    "    brand_performance_corrected['unique_locations'] / dealers['google_place_id'].nunique() * 100\n",
    ")\n",
    "\n",
    "brand_performance_corrected = brand_performance_corrected.sort_values('total_relationships', ascending=False)\n",
    "brand_performance_corrected.to_csv(OUT / \"brand_performance_corrected.csv\", index=False)\n",
    "print(f\"✅ Saved to {OUT / 'brand_performance_corrected.csv'}\")\n",
    "\n",
    "print(f\"\\n📊 CORRECTED Pon brand performance:\")\n",
    "print(brand_performance_corrected.to_string(index=False))\n",
    "\n",
    "# Calculate true market share\n",
    "total_dealer_relationships = len(dealers)\n",
    "pon_dealer_relationships = dealers['is_pon_dealer'].sum()\n",
    "true_market_share = pon_dealer_relationships / total_dealer_relationships * 100\n",
    "\n",
    "print(f\"\\n📈 CORRECTED Market Metrics:\")\n",
    "print(f\"   Total dealer relationships: {total_dealer_relationships:,}\")\n",
    "print(f\"   Pon dealer relationships: {pon_dealer_relationships:,}\")\n",
    "print(f\"   True Pon market share: {true_market_share:.1f}% (was 43.8%)\")\n",
    "print(f\"   Unique dealer locations: {dealers['google_place_id'].nunique():,}\")\n",
    "print(f\"   Multi-brand locations: {(dealers_unique['total_brand_count'] > 1).sum():,}\")"
   ]
  },
  {
   "cell_type": "markdown",
   "metadata": {},
   "source": [
    "## 2. Demographics Data Processing"
   ]
  },
  {
   "cell_type": "code",
   "execution_count": 13,
   "metadata": {
    "execution": {
     "iopub.execute_input": "2025-09-05T23:50:17.847338Z",
     "iopub.status.busy": "2025-09-05T23:50:17.847112Z",
     "iopub.status.idle": "2025-09-05T23:50:17.870981Z",
     "shell.execute_reply": "2025-09-05T23:50:17.870558Z"
    }
   },
   "outputs": [
    {
     "name": "stdout",
     "output_type": "stream",
     "text": [
      "Loading demographics data...\n",
      "Raw demographics: 4,070 records\n",
      "Columns: ['Postcode-4', 'Totaal inwoners x1', 'Man x1', 'Vrouw x1', 'tot 15 jaar x1', '15 tot 25 jaar x1', '25 tot 45 jaar x1', '45 tot 65 jaar x1', '65 jaar en ouder x1', 'Geboren in Nederland met een Nederlandse herkomst %']...\n"
     ]
    }
   ],
   "source": [
    "# Load demografie data\n",
    "print(\"Loading demographics data...\")\n",
    "demo = pd.read_csv(RAW / \"demografie.csv\", dtype=str)\n",
    "print(f\"Raw demographics: {len(demo):,} records\")\n",
    "print(f\"Columns: {list(demo.columns[:10])}...\")  # First 10 columns"
   ]
  },
  {
   "cell_type": "code",
   "execution_count": 14,
   "metadata": {
    "execution": {
     "iopub.execute_input": "2025-09-05T23:50:17.872927Z",
     "iopub.status.busy": "2025-09-05T23:50:17.872746Z",
     "iopub.status.idle": "2025-09-05T23:50:17.979581Z",
     "shell.execute_reply": "2025-09-05T23:50:17.979060Z"
    }
   },
   "outputs": [
    {
     "name": "stdout",
     "output_type": "stream",
     "text": [
      "Cleaned column headers\n",
      "\n",
      "Processing numeric columns...\n",
      "Processed 37 numeric columns\n"
     ]
    }
   ],
   "source": [
    "# Clean headers (remove newlines and extra spaces)\n",
    "demo.columns = demo.columns.str.strip().str.replace(\"\\n\", \" \", regex=False)\n",
    "print(\"Cleaned column headers\")\n",
    "\n",
    "# Handle CBS sentinel value -99997 and convert to numeric\n",
    "print(\"\\nProcessing numeric columns...\")\n",
    "numeric_cols = demo.columns[1:]  # All except first column (PC4)\n",
    "\n",
    "for col in numeric_cols:\n",
    "    # Replace commas with dots for decimal conversion\n",
    "    demo[col] = demo[col].str.replace(\",\", \".\", regex=False)\n",
    "    # Convert to numeric\n",
    "    demo[col] = pd.to_numeric(demo[col], errors=\"coerce\")\n",
    "    # Replace CBS sentinel -99997 with NaN\n",
    "    demo[col] = demo[col].mask(demo[col] == -99997, np.nan)\n",
    "\n",
    "print(f\"Processed {len(numeric_cols)} numeric columns\")"
   ]
  },
  {
   "cell_type": "code",
   "execution_count": 15,
   "metadata": {
    "execution": {
     "iopub.execute_input": "2025-09-05T23:50:17.981608Z",
     "iopub.status.busy": "2025-09-05T23:50:17.981429Z",
     "iopub.status.idle": "2025-09-05T23:50:17.988147Z",
     "shell.execute_reply": "2025-09-05T23:50:17.987751Z"
    }
   },
   "outputs": [
    {
     "name": "stdout",
     "output_type": "stream",
     "text": [
      "PC4 column found: True\n",
      "Unique PC4s: 4,070\n"
     ]
    }
   ],
   "source": [
    "# Rename PC4 column for consistency\n",
    "if \"Postcode-4\" in demo.columns:\n",
    "    demo = demo.rename(columns={\"Postcode-4\": \"pc4\"})\n",
    "elif \"PC4\" in demo.columns:\n",
    "    demo = demo.rename(columns={\"PC4\": \"pc4\"})\n",
    "    \n",
    "print(f\"PC4 column found: {'pc4' in demo.columns}\")\n",
    "print(f\"Unique PC4s: {demo['pc4'].nunique():,}\")"
   ]
  },
  {
   "cell_type": "code",
   "execution_count": 16,
   "metadata": {
    "execution": {
     "iopub.execute_input": "2025-09-05T23:50:17.989831Z",
     "iopub.status.busy": "2025-09-05T23:50:17.989702Z",
     "iopub.status.idle": "2025-09-05T23:50:18.011780Z",
     "shell.execute_reply": "2025-09-05T23:50:18.011294Z"
    }
   },
   "outputs": [
    {
     "name": "stdout",
     "output_type": "stream",
     "text": [
      "\n",
      "Extracting gemeente from dealer addresses...\n",
      "Available columns in dealers_unique: ['google_place_id', 'name', 'google_name', 'brand_clean', 'is_pon_dealer', 'google_rating', 'google_user_ratings_total', 'google_lat', 'google_lng', 'postal_code', 'google_address', 'country', 'google_link', 'website', 'house_number', 'street', 'pon_brand_count', 'total_brand_count', 'brands_sold', 'brand', 'pc4', 'gemeente']\n",
      "Available columns in demo: ['pc4', 'Totaal inwoners x1', 'Man x1', 'Vrouw x1', 'tot 15 jaar x1', '15 tot 25 jaar x1', '25 tot 45 jaar x1', '45 tot 65 jaar x1', '65 jaar en ouder x1', 'Geboren in Nederland met een Nederlandse herkomst %', 'Geboren in Nederland met een Europese herkomst (excl. Nederland) %', 'Geboren in Nederland met herkomst buiten Europa %', 'Geboren buiten Nederland met een Europese herkomst (excl. Nederland) %', 'Geboren buiten Nederland met een herkomst buiten Europa %', 'Totaal huishouden x1', 'Eenpersoons x1', 'Meerpersoons  zonder kinderen x1', 'Eenouder x1', 'Tweeouder x1', 'Huishoudgrootte x1', 'Totaal woning x1', 'voor 1945 x1', '1945 tot 1965 x1', '1965 tot 1975 x1', '1975 tot 1985 x1', '1985 tot 1995 x1', '1995 tot 2005 x1', '2005 tot 2015 x1', '2015 en later x1', 'Meergezins x1', 'Koopwoning %', 'Huurwoning %', 'Huurcoporatie x1', 'Niet bewoond x1', 'WOZ-waarde woning x 1 000 Euro', 'Personen met WW, Bijstand en/of AO uitkering Beneden AOW-leeftijd x1', 'Omgevingsadressendichtheid adressen/km2', 'Stedelijkheid categorie']\n",
      "✅ pc4 column found in dealers_unique: 1357 unique values\n",
      "✅ pc4 column found in demo: 4070 unique values\n",
      "Created PC4-gemeente mapping from 1357 dealers\n",
      "PC4s mapped to gemeente via dealers: 33.3%\n",
      "\n",
      "Sample gemeente mapping:\n",
      " pc4            gemeente\n",
      "6333           Schimmert\n",
      "6666             Heteren\n",
      "5025             Tilburg\n",
      "4876          Etten-Leur\n",
      "7921           Zuidwolde\n",
      "3452             Utrecht\n",
      "3191 Hoogvliet Rotterdam\n",
      "3481            Harmelen\n",
      "2871         Schoonhoven\n",
      "3843          Harderwijk\n"
     ]
    }
   ],
   "source": [
    "# Extract gemeente from dealer addresses for mapping\n",
    "print(\"\\nExtracting gemeente from dealer addresses...\")\n",
    "\n",
    "# Debug: Check available columns in dealers_unique\n",
    "print(f\"Available columns in dealers_unique: {list(dealers_unique.columns)}\")\n",
    "print(f\"Available columns in demo: {list(demo.columns)}\")\n",
    "\n",
    "# Check if both have pc4 columns\n",
    "if 'pc4' not in dealers_unique.columns:\n",
    "    print(\"⚠️ pc4 column not found in dealers_unique\")\n",
    "else:\n",
    "    print(f\"✅ pc4 column found in dealers_unique: {dealers_unique['pc4'].nunique()} unique values\")\n",
    "\n",
    "if 'pc4' not in demo.columns:\n",
    "    print(\"⚠️ pc4 column not found in demo\")\n",
    "else:\n",
    "    print(f\"✅ pc4 column found in demo: {demo['pc4'].nunique()} unique values\")\n",
    "\n",
    "# Only proceed if both have pc4 columns\n",
    "if 'pc4' in dealers_unique.columns and 'pc4' in demo.columns:\n",
    "    # Split address and clean gemeente name\n",
    "    address_parts = dealers_unique['google_address'].str.split(',')\n",
    "    dealers_unique['gemeente'] = address_parts.str[-2].str.strip()\n",
    "    \n",
    "    # Remove postcode from gemeente (pattern: remove 4 digits + 2 letters at start)\n",
    "    dealers_unique['gemeente'] = dealers_unique['gemeente'].str.replace(r'^\\d{4}\\s*[A-Z]{2}\\s*', '', regex=True)\n",
    "    dealers_unique['gemeente'] = dealers_unique['gemeente'].str.replace(' Nederland', '').str.strip()\n",
    "    \n",
    "    # Create PC4-gemeente mapping from dealers\n",
    "    pc4_gemeente_from_dealers = dealers_unique[['pc4', 'gemeente']].dropna()\n",
    "    pc4_gemeente_from_dealers = pc4_gemeente_from_dealers[pc4_gemeente_from_dealers['gemeente'] != '']\n",
    "    pc4_gemeente_from_dealers = pc4_gemeente_from_dealers.drop_duplicates('pc4')\n",
    "    \n",
    "    print(f\"Created PC4-gemeente mapping from {len(pc4_gemeente_from_dealers)} dealers\")\n",
    "    \n",
    "    # Apply to demographics\n",
    "    demo = demo.merge(pc4_gemeente_from_dealers, on='pc4', how='left')\n",
    "    mapped_pct = demo['gemeente'].notna().mean()\n",
    "    print(f\"PC4s mapped to gemeente via dealers: {mapped_pct:.1%}\")\n",
    "    \n",
    "    # Show sample mapping\n",
    "    print(\"\\nSample gemeente mapping:\")\n",
    "    sample_mapping = pc4_gemeente_from_dealers.head(10)\n",
    "    print(sample_mapping.to_string(index=False))\n",
    "    \n",
    "else:\n",
    "    print(\"⚠️ Skipping gemeente mapping due to missing pc4 columns\")\n",
    "    # Add empty gemeente column to demo for compatibility\n",
    "    if 'gemeente' not in demo.columns:\n",
    "        demo['gemeente'] = None"
   ]
  },
  {
   "cell_type": "markdown",
   "metadata": {},
   "source": [
    "## 3. Feature Engineering"
   ]
  },
  {
   "cell_type": "code",
   "execution_count": 17,
   "metadata": {
    "execution": {
     "iopub.execute_input": "2025-09-05T23:50:18.013939Z",
     "iopub.status.busy": "2025-09-05T23:50:18.013772Z",
     "iopub.status.idle": "2025-09-05T23:50:18.016059Z",
     "shell.execute_reply": "2025-09-05T23:50:18.015716Z"
    }
   },
   "outputs": [
    {
     "name": "stdout",
     "output_type": "stream",
     "text": [
      "Creating feature mapping...\n",
      "Available columns: ['pc4', 'Totaal inwoners x1', 'Man x1', 'Vrouw x1', 'tot 15 jaar x1', '15 tot 25 jaar x1', '25 tot 45 jaar x1', '45 tot 65 jaar x1', '65 jaar en ouder x1', 'Geboren in Nederland met een Nederlandse herkomst %', 'Geboren in Nederland met een Europese herkomst (excl. Nederland) %', 'Geboren in Nederland met herkomst buiten Europa %', 'Geboren buiten Nederland met een Europese herkomst (excl. Nederland) %', 'Geboren buiten Nederland met een herkomst buiten Europa %', 'Totaal huishouden x1', 'Eenpersoons x1', 'Meerpersoons  zonder kinderen x1', 'Eenouder x1', 'Tweeouder x1', 'Huishoudgrootte x1', 'Totaal woning x1', 'voor 1945 x1', '1945 tot 1965 x1', '1965 tot 1975 x1', '1975 tot 1985 x1', '1985 tot 1995 x1', '1995 tot 2005 x1', '2005 tot 2015 x1', '2015 en later x1', 'Meergezins x1', 'Koopwoning %', 'Huurwoning %', 'Huurcoporatie x1', 'Niet bewoond x1', 'WOZ-waarde woning x 1 000 Euro', 'Personen met WW, Bijstand en/of AO uitkering Beneden AOW-leeftijd x1', 'Omgevingsadressendichtheid adressen/km2', 'Stedelijkheid categorie', 'gemeente']\n"
     ]
    }
   ],
   "source": [
    "# Define feature mapping (adjust column names to match your CSV)\n",
    "print(\"Creating feature mapping...\")\n",
    "print(\"Available columns:\", list(demo.columns))"
   ]
  },
  {
   "cell_type": "code",
   "execution_count": 18,
   "metadata": {
    "execution": {
     "iopub.execute_input": "2025-09-05T23:50:18.017583Z",
     "iopub.status.busy": "2025-09-05T23:50:18.017439Z",
     "iopub.status.idle": "2025-09-05T23:50:18.025840Z",
     "shell.execute_reply": "2025-09-05T23:50:18.025456Z"
    }
   },
   "outputs": [
    {
     "name": "stdout",
     "output_type": "stream",
     "text": [
      "\n",
      "Feature mapping:\n",
      "pop_total    -> Totaal inwoners x1\n",
      "hh_total     -> Totaal huishouden x1\n",
      "kids_0_15    -> tot 15 jaar x1\n",
      "age_25_44    -> 25 tot 45 jaar x1\n",
      "koop_pct     -> Koopwoning %\n",
      "huur_pct     -> Huurwoning %\n",
      "density      -> Omgevingsadressendichtheid adressen/km2\n",
      "woz          -> WOZ-waarde woning x 1 000 Euro\n",
      "\n",
      "Mapped 8 features\n"
     ]
    }
   ],
   "source": [
    "# Map to standardized feature names\n",
    "# Note: These names should match your actual CSV columns\n",
    "feature_mapping = {}\n",
    "\n",
    "# Try to find population column\n",
    "pop_cols = [col for col in demo.columns if 'inwoner' in col.lower() and 'totaal' in col.lower()]\n",
    "if pop_cols:\n",
    "    feature_mapping['pop_total'] = pop_cols[0]\n",
    "    \n",
    "# Try to find household columns\n",
    "hh_cols = [col for col in demo.columns if 'huishouden' in col.lower()]\n",
    "hh_total_cols = [col for col in hh_cols if 'totaal' in col.lower()]\n",
    "if hh_total_cols:\n",
    "    feature_mapping['hh_total'] = hh_total_cols[0]\n",
    "    \n",
    "hh_1p_cols = [col for col in hh_cols if 'eenpersoons' in col.lower()]\n",
    "if hh_1p_cols:\n",
    "    feature_mapping['hh_1p'] = hh_1p_cols[0]\n",
    "\n",
    "# Try to find age columns\n",
    "age_cols = [col for col in demo.columns if 'jaar' in col.lower()]\n",
    "kids_cols = [col for col in age_cols if ('15' in col or '0' in col) and 'tot' in col.lower()]\n",
    "if kids_cols:\n",
    "    feature_mapping['kids_0_15'] = kids_cols[0]\n",
    "    \n",
    "adult_cols = [col for col in age_cols if '25' in col and '45' in col]\n",
    "if adult_cols:\n",
    "    feature_mapping['age_25_44'] = adult_cols[0]\n",
    "\n",
    "# Housing\n",
    "koop_cols = [col for col in demo.columns if 'koopwoning' in col.lower() and '%' in col]\n",
    "if koop_cols:\n",
    "    feature_mapping['koop_pct'] = koop_cols[0]\n",
    "    \n",
    "huur_cols = [col for col in demo.columns if 'huurwoning' in col.lower() and '%' in col]\n",
    "if huur_cols:\n",
    "    feature_mapping['huur_pct'] = huur_cols[0]\n",
    "\n",
    "# Density and WOZ\n",
    "density_cols = [col for col in demo.columns if 'dichtheid' in col.lower()]\n",
    "if density_cols:\n",
    "    feature_mapping['density'] = density_cols[0]\n",
    "    \n",
    "woz_cols = [col for col in demo.columns if 'woz' in col.lower()]\n",
    "if woz_cols:\n",
    "    feature_mapping['woz'] = woz_cols[0]\n",
    "\n",
    "print(\"\\nFeature mapping:\")\n",
    "for k, v in feature_mapping.items():\n",
    "    print(f\"{k:12} -> {v}\")\n",
    "    \n",
    "print(f\"\\nMapped {len(feature_mapping)} features\")"
   ]
  },
  {
   "cell_type": "code",
   "execution_count": 23,
   "metadata": {
    "execution": {
     "iopub.execute_input": "2025-09-05T23:50:18.027628Z",
     "iopub.status.busy": "2025-09-05T23:50:18.027481Z",
     "iopub.status.idle": "2025-09-05T23:50:18.032759Z",
     "shell.execute_reply": "2025-09-05T23:50:18.032423Z"
    }
   },
   "outputs": [
    {
     "name": "stdout",
     "output_type": "stream",
     "text": [
      "Feature dataset: 4,070 rows x 10 columns\n",
      "Columns: ['pc4', 'gemeente', 'pop_total', 'hh_total', 'kids_0_15', 'age_25_44', 'koop_pct', 'huur_pct', 'density', 'woz']\n"
     ]
    }
   ],
   "source": [
    "# Create feature dataset with mapped columns\n",
    "base_cols = ['pc4', 'gemeente']\n",
    "feature_cols = [feature_mapping[k] for k in feature_mapping.keys()]\n",
    "\n",
    "demo_feat = demo[base_cols + feature_cols].copy()\n",
    "\n",
    "# Rename to standardized names\n",
    "rename_dict = {v: k for k, v in feature_mapping.items()}\n",
    "demo_feat = demo_feat.rename(columns=rename_dict)\n",
    "\n",
    "print(f\"Feature dataset: {len(demo_feat):,} rows x {len(demo_feat.columns)} columns\")\n",
    "print(f\"Columns: {list(demo_feat.columns)}\")"
   ]
  },
  {
   "cell_type": "code",
   "execution_count": 25,
   "metadata": {
    "execution": {
     "iopub.execute_input": "2025-09-05T23:50:18.034648Z",
     "iopub.status.busy": "2025-09-05T23:50:18.034493Z",
     "iopub.status.idle": "2025-09-05T23:50:18.048743Z",
     "shell.execute_reply": "2025-09-05T23:50:18.048213Z"
    }
   },
   "outputs": [
    {
     "name": "stdout",
     "output_type": "stream",
     "text": [
      "\n",
      "Creating ratio features...\n",
      "✅ kids_0_15_pct created\n",
      "✅ age_25_44_pct created\n",
      "✅ income_norm created from WOZ\n",
      "✅ density_norm created\n",
      "\n",
      "Final feature set: ['pc4', 'gemeente', 'pop_total', 'hh_total', 'kids_0_15', 'age_25_44', 'koop_pct', 'huur_pct', 'density', 'woz', 'kids_0_15_pct', 'age_25_44_pct', 'income_norm', 'density_norm']\n"
     ]
    }
   ],
   "source": [
    "# Derive ratio features\n",
    "print(\"\\nCreating ratio features...\")\n",
    "\n",
    "# Household ratios\n",
    "if 'hh_1p' in demo_feat.columns and 'hh_total' in demo_feat.columns:\n",
    "    demo_feat[\"hh_1p_pct\"] = demo_feat[\"hh_1p\"] / demo_feat[\"hh_total\"]\n",
    "    print(\"✅ hh_1p_pct created\")\n",
    "\n",
    "# Age ratios  \n",
    "if 'kids_0_15' in demo_feat.columns and 'pop_total' in demo_feat.columns:\n",
    "    demo_feat[\"kids_0_15_pct\"] = demo_feat[\"kids_0_15\"] / demo_feat[\"pop_total\"]\n",
    "    print(\"✅ kids_0_15_pct created\")\n",
    "    \n",
    "if 'age_25_44' in demo_feat.columns and 'pop_total' in demo_feat.columns:\n",
    "    demo_feat[\"age_25_44_pct\"] = demo_feat[\"age_25_44\"] / demo_feat[\"pop_total\"]\n",
    "    print(\"✅ age_25_44_pct created\")\n",
    "\n",
    "# Create income/wealth proxies from WOZ\n",
    "if 'woz' in demo_feat.columns:\n",
    "    woz_valid = demo_feat['woz'].notna() & (demo_feat['woz'] > 0)\n",
    "    if woz_valid.sum() > 0:\n",
    "        woz_min, woz_max = demo_feat.loc[woz_valid, 'woz'].min(), demo_feat.loc[woz_valid, 'woz'].max()\n",
    "        demo_feat['income_norm'] = (demo_feat['woz'] - woz_min) / (woz_max - woz_min)\n",
    "        print(\"✅ income_norm created from WOZ\")\n",
    "\n",
    "# Density normalization\n",
    "if 'density' in demo_feat.columns:\n",
    "    density_valid = demo_feat['density'].notna() & (demo_feat['density'] > 0)\n",
    "    if density_valid.sum() > 0:\n",
    "        dens_min, dens_max = demo_feat.loc[density_valid, 'density'].min(), demo_feat.loc[density_valid, 'density'].max()\n",
    "        demo_feat['density_norm'] = (demo_feat['density'] - dens_min) / (dens_max - dens_min)\n",
    "        print(\"✅ density_norm created\")\n",
    "\n",
    "print(f\"\\nFinal feature set: {list(demo_feat.columns)}\")"
   ]
  },
  {
   "cell_type": "code",
   "execution_count": 26,
   "metadata": {},
   "outputs": [
    {
     "name": "stdout",
     "output_type": "stream",
     "text": [
      "demo_feat columns: ['pc4', 'gemeente', 'pop_total', 'hh_total', 'kids_0_15', 'age_25_44', 'koop_pct', 'huur_pct', 'density', 'woz', 'kids_0_15_pct', 'age_25_44_pct', 'income_norm', 'density_norm']\n",
      "demo_feat shape: (4070, 14)\n"
     ]
    }
   ],
   "source": [
    "  print(f\"demo_feat columns: {list(demo_feat.columns)}\")\n",
    "  print(f\"demo_feat shape: {demo_feat.shape}\")"
   ]
  },
  {
   "cell_type": "markdown",
   "metadata": {},
   "source": [
    "## 4. Demographic Clustering"
   ]
  },
  {
   "cell_type": "code",
   "execution_count": 27,
   "metadata": {
    "execution": {
     "iopub.execute_input": "2025-09-05T23:50:18.051313Z",
     "iopub.status.busy": "2025-09-05T23:50:18.051038Z",
     "iopub.status.idle": "2025-09-05T23:50:18.465700Z",
     "shell.execute_reply": "2025-09-05T23:50:18.463987Z"
    }
   },
   "outputs": [
    {
     "name": "stdout",
     "output_type": "stream",
     "text": [
      "Checking available clustering features:\n",
      "  ✅ kids_0_15_pct\n",
      "  ✅ age_25_44_pct\n",
      "  ✅ koop_pct\n",
      "  ✅ huur_pct\n",
      "  ✅ density_norm\n",
      "  ✅ income_norm\n",
      "\n",
      "Clustering features selected: ['kids_0_15_pct', 'age_25_44_pct', 'koop_pct', 'huur_pct', 'density_norm', 'income_norm']\n",
      "\n",
      "Performing K-means clustering (k=5) with 6 features...\n",
      "Cluster distribution:\n",
      "  Cluster 0: 450 PC4s (11.1%)\n",
      "  Cluster 1: 1,494 PC4s (36.7%)\n",
      "  Cluster 2: 613 PC4s (15.1%)\n",
      "  Cluster 3: 203 PC4s (5.0%)\n",
      "  Cluster 4: 1,310 PC4s (32.2%)\n",
      "\n",
      "Cluster centers (standardized):\n",
      "   kids_0_15_pct  age_25_44_pct  koop_pct  huur_pct  density_norm  income_norm\n",
      "0           1.74           0.41      0.39     -0.38         -0.11         0.91\n",
      "1           0.01          -0.12      0.02     -0.07         -0.20        -0.39\n",
      "2          -0.13           0.60     -1.40      1.41          0.83        -0.70\n",
      "3          -0.94           2.62     -2.13      2.19          2.98        -0.09\n",
      "4          -0.40          -0.69      0.83     -0.78         -0.58         0.48\n"
     ]
    }
   ],
   "source": [
    "# Select clustering features (use available ones)\n",
    "clustering_features = []\n",
    "candidate_features = [\"kids_0_15_pct\", \"age_25_44_pct\", \"koop_pct\", \"huur_pct\", \"density_norm\", \"income_norm\"]\n",
    "\n",
    "# Check which features are actually available\n",
    "print(\"Checking available clustering features:\")\n",
    "for feat in candidate_features:\n",
    "    if feat in demo_feat.columns:\n",
    "        clustering_features.append(feat)\n",
    "        print(f\"  ✅ {feat}\")\n",
    "    else:\n",
    "        print(f\"  ❌ {feat} (not found)\")\n",
    "        \n",
    "print(f\"\\nClustering features selected: {clustering_features}\")\n",
    "\n",
    "if len(clustering_features) >= 3:\n",
    "    # Prepare data for clustering\n",
    "    X = demo_feat[clustering_features].astype(float)\n",
    "    \n",
    "    # Fill NaN with median\n",
    "    X_filled = X.fillna(X.median())\n",
    "    \n",
    "    # Standardize\n",
    "    scaler = StandardScaler()\n",
    "    X_scaled = scaler.fit_transform(X_filled)\n",
    "    \n",
    "    # K-means clustering\n",
    "    print(f\"\\nPerforming K-means clustering (k=5) with {len(clustering_features)} features...\")\n",
    "    kmeans = KMeans(n_clusters=5, n_init=10, random_state=42)\n",
    "    demo_feat[\"cluster\"] = kmeans.fit_predict(X_scaled)\n",
    "    \n",
    "    # Cluster summary\n",
    "    cluster_counts = demo_feat['cluster'].value_counts().sort_index()\n",
    "    print(f\"Cluster distribution:\")\n",
    "    for i, count in cluster_counts.items():\n",
    "        print(f\"  Cluster {i}: {count:,} PC4s ({count/len(demo_feat):.1%})\")\n",
    "    \n",
    "    # Show feature importance by cluster centers\n",
    "    print(f\"\\nCluster centers (standardized):\")\n",
    "    centers_df = pd.DataFrame(kmeans.cluster_centers_, columns=clustering_features)\n",
    "    print(centers_df.round(2).to_string())\n",
    "        \n",
    "else:\n",
    "    print(f\"⚠️ Only {len(clustering_features)} features available (need 3+), assigning random clusters\")\n",
    "    np.random.seed(42)\n",
    "    demo_feat[\"cluster\"] = np.random.choice(5, size=len(demo_feat))"
   ]
  },
  {
   "cell_type": "markdown",
   "metadata": {},
   "source": [
    "## 5. Data Quality Checks & Exports"
   ]
  },
  {
   "cell_type": "code",
   "execution_count": 28,
   "metadata": {
    "execution": {
     "iopub.execute_input": "2025-09-05T23:50:18.469571Z",
     "iopub.status.busy": "2025-09-05T23:50:18.469070Z",
     "iopub.status.idle": "2025-09-05T23:50:18.477469Z",
     "shell.execute_reply": "2025-09-05T23:50:18.477032Z"
    }
   },
   "outputs": [
    {
     "name": "stdout",
     "output_type": "stream",
     "text": [
      "=== DATA QUALITY SUMMARY ===\n",
      "Demographics: 4,070 PC4 areas\n",
      "Dealers: 2,080 unique dealers\n",
      "Total population: 17,809,175\n",
      "\n",
      "Missing values per key column:\n",
      "  gemeente: 66.7% missing\n",
      "  pop_total: 0.4% missing\n",
      "  density: 0.0% missing\n",
      "  woz: 0.9% missing\n",
      "\n",
      "Cluster distribution:\n",
      "cluster\n",
      "0     450\n",
      "1    1494\n",
      "2     613\n",
      "3     203\n",
      "4    1310\n"
     ]
    }
   ],
   "source": [
    "# Data quality summary\n",
    "print(\"=== DATA QUALITY SUMMARY ===\")\n",
    "print(f\"Demographics: {len(demo_feat):,} PC4 areas\")\n",
    "print(f\"Dealers: {len(dealers_unique):,} unique dealers\")\n",
    "\n",
    "if 'pop_total' in demo_feat.columns:\n",
    "    total_pop = demo_feat['pop_total'].sum(skipna=True)\n",
    "    print(f\"Total population: {total_pop:,.0f}\")\n",
    "\n",
    "print(f\"\\nMissing values per key column:\")\n",
    "key_cols = ['gemeente', 'pop_total', 'density', 'woz']\n",
    "for col in key_cols:\n",
    "    if col in demo_feat.columns:\n",
    "        missing_pct = demo_feat[col].isna().mean()\n",
    "        print(f\"  {col}: {missing_pct:.1%} missing\")\n",
    "        \n",
    "print(f\"\\nCluster distribution:\")\n",
    "print(demo_feat['cluster'].value_counts().sort_index().to_string())"
   ]
  },
  {
   "cell_type": "code",
   "execution_count": 29,
   "metadata": {
    "execution": {
     "iopub.execute_input": "2025-09-05T23:50:18.480370Z",
     "iopub.status.busy": "2025-09-05T23:50:18.480064Z",
     "iopub.status.idle": "2025-09-05T23:50:18.716026Z",
     "shell.execute_reply": "2025-09-05T23:50:18.714894Z"
    }
   },
   "outputs": [
    {
     "name": "stdout",
     "output_type": "stream",
     "text": [
      "\n",
      "=== SAVING OUTPUTS ===\n",
      "✅ Saved ../data/processed/demografie.parquet\n",
      "✅ Saved ../outputs/tables/kpis_by_pc4_with_clusters.csv\n",
      "✅ Saved ../outputs/tables/gemeente_summary.csv\n",
      "   Gemeenten: 818\n"
     ]
    }
   ],
   "source": [
    "# Save processed data\n",
    "print(\"\\n=== SAVING OUTPUTS ===\")\n",
    "\n",
    "# Save full demographics with features\n",
    "demo_feat.to_parquet(PROC / \"demografie.parquet\", index=False)\n",
    "print(f\"✅ Saved {PROC / 'demografie.parquet'}\")\n",
    "\n",
    "# Save PC4-level KPIs with clusters for later use\n",
    "demo_feat.to_csv(OUT / \"kpis_by_pc4_with_clusters.csv\", index=False)\n",
    "print(f\"✅ Saved {OUT / 'kpis_by_pc4_with_clusters.csv'}\")\n",
    "\n",
    "# Quick gemeente-level aggregation for validation\n",
    "if 'gemeente' in demo_feat.columns and 'pop_total' in demo_feat.columns:\n",
    "    gemeente_agg = demo_feat.groupby(\"gemeente\", dropna=False).agg(\n",
    "        pop_total=(\"pop_total\", \"sum\"),\n",
    "        pc4_count=(\"pc4\", \"count\"),\n",
    "        cluster_mode=(\"cluster\", lambda x: x.mode().iloc[0] if len(x.mode()) > 0 else 0)\n",
    "    ).reset_index()\n",
    "    \n",
    "    gemeente_agg.to_csv(OUT / \"gemeente_summary.csv\", index=False)\n",
    "    print(f\"✅ Saved {OUT / 'gemeente_summary.csv'}\")\n",
    "    print(f\"   Gemeenten: {len(gemeente_agg):,}\")"
   ]
  },
  {
   "cell_type": "code",
   "execution_count": 30,
   "metadata": {
    "execution": {
     "iopub.execute_input": "2025-09-05T23:50:18.719210Z",
     "iopub.status.busy": "2025-09-05T23:50:18.718990Z",
     "iopub.status.idle": "2025-09-05T23:50:18.724457Z",
     "shell.execute_reply": "2025-09-05T23:50:18.723891Z"
    }
   },
   "outputs": [
    {
     "name": "stdout",
     "output_type": "stream",
     "text": [
      "\n",
      "=== 01_DATAPREP COMPLETED ===\n",
      "📁 Dealers processed: 2,080 unique\n",
      "📁 Demographics processed: 4,070 PC4 areas\n",
      "📁 Features created: 6\n",
      "📁 Clusters: 5 demographic segments\n",
      "\n",
      "✅ Ready for 02_coverage.ipynb\n",
      "\n",
      "Key outputs:\n",
      "  - data/processed/dealers.parquet\n",
      "  - data/processed/demografie.parquet\n",
      "  - outputs/tables/kpis_by_pc4_with_clusters.csv\n"
     ]
    }
   ],
   "source": [
    "# Final summary\n",
    "print(\"\\n=== 01_DATAPREP COMPLETED ===\")\n",
    "print(f\"📁 Dealers processed: {len(dealers_unique):,} unique\")\n",
    "print(f\"📁 Demographics processed: {len(demo_feat):,} PC4 areas\")\n",
    "print(f\"📁 Features created: {len([c for c in demo_feat.columns if c.endswith('_pct') or c.endswith('_norm')])}\")\n",
    "print(f\"📁 Clusters: 5 demographic segments\")\n",
    "print(f\"\")\n",
    "print(f\"✅ Ready for 02_coverage.ipynb\")\n",
    "print(f\"\")\n",
    "print(f\"Key outputs:\")\n",
    "print(f\"  - data/processed/dealers.parquet\")\n",
    "print(f\"  - data/processed/demografie.parquet\")\n",
    "print(f\"  - outputs/tables/kpis_by_pc4_with_clusters.csv\")"
   ]
  }
 ],
 "metadata": {
  "kernelspec": {
   "display_name": ".venv",
   "language": "python",
   "name": "python3"
  },
  "language_info": {
   "codemirror_mode": {
    "name": "ipython",
    "version": 3
   },
   "file_extension": ".py",
   "mimetype": "text/x-python",
   "name": "python",
   "nbconvert_exporter": "python",
   "pygments_lexer": "ipython3",
   "version": "3.12.2"
  }
 },
 "nbformat": 4,
 "nbformat_minor": 4
}
